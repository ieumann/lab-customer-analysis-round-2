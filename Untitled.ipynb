{
 "cells": [
  {
   "cell_type": "code",
   "execution_count": null,
   "id": "be7cc64a",
   "metadata": {},
   "outputs": [],
   "source": [
    "df.columns = [col_name.lower().replace(' ', '_') for col_name in df.columns]\n",
    "df = df.rename(columns={'employmentstatus':'employment_status'})\n",
    "df = df.drop(['unnamed:_0'], axis=1)\n",
    "df = df.fillna({'state': 'no data', 'response': 'no data'})\n",
    "df = df.dropna(subset=['months_since_last_claim','number_of_open_complaints','vehicle_class', 'vehicle_size', 'vehicle_type'])\n",
    "df['month'] = pd.to_datetime(df['effective_to_date']).dt.month_name()"
   ]
  },
  {
   "cell_type": "code",
   "execution_count": null,
   "id": "dd9aefc4",
   "metadata": {},
   "outputs": [],
   "source": [
    "def clean(x):\n",
    "    if "
   ]
  }
 ],
 "metadata": {
  "kernelspec": {
   "display_name": "Python 3 (ipykernel)",
   "language": "python",
   "name": "python3"
  },
  "language_info": {
   "codemirror_mode": {
    "name": "ipython",
    "version": 3
   },
   "file_extension": ".py",
   "mimetype": "text/x-python",
   "name": "python",
   "nbconvert_exporter": "python",
   "pygments_lexer": "ipython3",
   "version": "3.9.13"
  }
 },
 "nbformat": 4,
 "nbformat_minor": 5
}
