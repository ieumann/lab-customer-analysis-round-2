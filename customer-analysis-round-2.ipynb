{
 "cells": [
  {
   "cell_type": "markdown",
   "id": "18ea522d",
   "metadata": {},
   "source": [
    "### Dealing with the data\n",
    "\n",
    "1. Show the dataframe shape.\n",
    "2. Standardize header names.\n",
    "3. Which columns are numerical?\n",
    "4. Which columns are categorical?\n",
    "5. Check and deal with `NaN` values.\n",
    "6. Datetime format - Extract the months from the dataset and store in a separate column. Then filter the data to show only the information for the first quarter , ie. January, February and March. _Hint_: If data from March does not exist, consider only January and February.\n",
    "7. BONUS: Put all the previously mentioned data transformations into a function."
   ]
  },
  {
   "cell_type": "code",
   "execution_count": null,
   "id": "49114b6a",
   "metadata": {},
   "outputs": [],
   "source": [
    "import pandas as pd\n",
    "import numpy as np"
   ]
  },
  {
   "cell_type": "code",
   "execution_count": null,
   "id": "72e04050",
   "metadata": {},
   "outputs": [],
   "source": [
    "df = pd.read_csv('marketing_customer_analysis.csv')"
   ]
  },
  {
   "cell_type": "markdown",
   "id": "beacf004",
   "metadata": {},
   "source": [
    "1. Show the dataframe shape."
   ]
  },
  {
   "cell_type": "code",
   "execution_count": null,
   "id": "100314a9",
   "metadata": {},
   "outputs": [],
   "source": [
    "df.shape"
   ]
  },
  {
   "cell_type": "code",
   "execution_count": null,
   "id": "a6f25670",
   "metadata": {},
   "outputs": [],
   "source": [
    "# did this just out of interest\n",
    "df.iloc[100]"
   ]
  },
  {
   "cell_type": "markdown",
   "id": "a4e0dfd9",
   "metadata": {},
   "source": [
    "2. Standardize header names."
   ]
  },
  {
   "cell_type": "code",
   "execution_count": null,
   "id": "38e4032b",
   "metadata": {},
   "outputs": [],
   "source": [
    "print(df.columns.tolist())"
   ]
  },
  {
   "cell_type": "code",
   "execution_count": null,
   "id": "310da835",
   "metadata": {},
   "outputs": [],
   "source": [
    "df.columns = [col_name.lower().replace(' ', '_') for col_name in df.columns]\n",
    "df.columns"
   ]
  },
  {
   "cell_type": "code",
   "execution_count": null,
   "id": "55d43002",
   "metadata": {},
   "outputs": [],
   "source": [
    "df = df.rename(columns={'employmentstatus':'employment_status'})\n",
    "df = df.drop(['unnamed:_0'], axis=1)\n",
    "df.columns"
   ]
  },
  {
   "cell_type": "markdown",
   "id": "1d625951",
   "metadata": {},
   "source": [
    "3. Which columns are numerical?\n",
    "4. Which columns are categorical?"
   ]
  },
  {
   "cell_type": "code",
   "execution_count": null,
   "id": "1a7b8ee9",
   "metadata": {},
   "outputs": [],
   "source": [
    "df.dtypes"
   ]
  },
  {
   "cell_type": "code",
   "execution_count": null,
   "id": "6783c7ac",
   "metadata": {},
   "outputs": [],
   "source": [
    "display(df)"
   ]
  },
  {
   "cell_type": "markdown",
   "id": "ff2f374c",
   "metadata": {},
   "source": [
    "5. Check and deal with NaN values."
   ]
  },
  {
   "cell_type": "code",
   "execution_count": null,
   "id": "81fe1a3f",
   "metadata": {},
   "outputs": [],
   "source": [
    "# just felt like checking for NULL values as well\n",
    "df.isnull().sum()"
   ]
  },
  {
   "cell_type": "code",
   "execution_count": null,
   "id": "e76743c8",
   "metadata": {},
   "outputs": [],
   "source": [
    "df.isna().sum()"
   ]
  },
  {
   "cell_type": "code",
   "execution_count": null,
   "id": "91c5999a",
   "metadata": {},
   "outputs": [],
   "source": [
    "df[df['vehicle_class'].isna()==True]"
   ]
  },
  {
   "cell_type": "markdown",
   "id": "7b627cca",
   "metadata": {},
   "source": [
    "NaNs in subsets 'state' and 'response' are not important when analysing the claim history of a client, so I don't delete respective rows, but only replace 'NaN' with 'no data' to make the dataframe better readible."
   ]
  },
  {
   "cell_type": "code",
   "execution_count": null,
   "id": "2a86bef2",
   "metadata": {},
   "outputs": [],
   "source": [
    "df = df.fillna({'state': 'no data', 'response': 'no data'})\n",
    "df['state'].unique()"
   ]
  },
  {
   "cell_type": "markdown",
   "id": "ca59bd04",
   "metadata": {},
   "source": [
    "In the other columns, it is necessary to have values in order to analyse the customer behaviour. Hence I drop the rows with NaNs. It might be sufficient to have either vehicle_size or vehicle_type or vehicle_class of a customer, in order to judge their claim history and to predict future insurance usage. But I don't know how to code that... :)"
   ]
  },
  {
   "cell_type": "code",
   "execution_count": null,
   "id": "bda5101f",
   "metadata": {},
   "outputs": [],
   "source": [
    "df = df.dropna(subset=['months_since_last_claim','number_of_open_complaints','vehicle_class', 'vehicle_size', 'vehicle_type'])\n",
    "display(df)"
   ]
  },
  {
   "cell_type": "markdown",
   "id": "922b1cdb",
   "metadata": {},
   "source": [
    "6. Datetime format - Extract the months from the dataset and store in a separate column. Then filter the data to show only the information for the first quarter , ie. January, February and March. Hint: If data from March does not exist, consider only January and February."
   ]
  },
  {
   "cell_type": "code",
   "execution_count": null,
   "id": "e3c228c6",
   "metadata": {},
   "outputs": [],
   "source": [
    "# did this out of interest, to see how to get the current date and time\n",
    "import datetime\n",
    "\n",
    "now = datetime.datetime.now()\n",
    "\n",
    "print(now)"
   ]
  },
  {
   "cell_type": "code",
   "execution_count": null,
   "id": "632fc8c7",
   "metadata": {},
   "outputs": [],
   "source": [
    "# same as above, did this just out of interest\n",
    "from datetime import date\n",
    "\n",
    "today = date.today()\n",
    "today"
   ]
  },
  {
   "cell_type": "code",
   "execution_count": null,
   "id": "b3f59367",
   "metadata": {},
   "outputs": [],
   "source": [
    "df['month'] = pd.to_datetime(df['effective_to_date']).dt.month_name()\n",
    "print(df)"
   ]
  },
  {
   "cell_type": "code",
   "execution_count": null,
   "id": "eeb600dc",
   "metadata": {},
   "outputs": [],
   "source": [
    "df['month'].value_counts()"
   ]
  },
  {
   "cell_type": "code",
   "execution_count": null,
   "id": "112b4f72",
   "metadata": {},
   "outputs": [],
   "source": [
    "# The dataframe is already filtered since there's only data from January & February.\n",
    "display(df)"
   ]
  },
  {
   "cell_type": "markdown",
   "id": "1d8eb384",
   "metadata": {},
   "source": [
    "7. BONUS: Put all the previously mentioned data transformations into a function."
   ]
  },
  {
   "cell_type": "code",
   "execution_count": null,
   "id": "36882583",
   "metadata": {},
   "outputs": [],
   "source": [
    "def preprocess_df(df):\n",
    "    df.columns = [col_name.lower().replace(' ', '_') for col_name in df.columns]\n",
    "    df = df.rename(columns={'employmentstatus':'employment_status'})\n",
    "    df = df.drop(['unnamed:_0'], axis=1)\n",
    "    df = df.fillna({'state': 'no data', 'response': 'no data'})\n",
    "    df = df.dropna(subset=['months_since_last_claim','number_of_open_complaints','vehicle_class', 'vehicle_size', 'vehicle_type'])\n",
    "    df['month'] = pd.to_datetime(df['effective_to_date']).dt.month_name()\n",
    "    return df\n",
    "\n",
    "df = preprocess_df(df)\n",
    "df.head()"
   ]
  }
 ],
 "metadata": {
  "kernelspec": {
   "display_name": "Python 3 (ipykernel)",
   "language": "python",
   "name": "python3"
  },
  "language_info": {
   "codemirror_mode": {
    "name": "ipython",
    "version": 3
   },
   "file_extension": ".py",
   "mimetype": "text/x-python",
   "name": "python",
   "nbconvert_exporter": "python",
   "pygments_lexer": "ipython3",
   "version": "3.9.13"
  }
 },
 "nbformat": 4,
 "nbformat_minor": 5
}
